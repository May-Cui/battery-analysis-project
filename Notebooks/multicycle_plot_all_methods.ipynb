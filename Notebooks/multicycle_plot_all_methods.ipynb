{
 "cells": [
  {
   "metadata": {},
   "cell_type": "markdown",
   "source": [
    "This notebook contains the full process of constructing the functions to present multicycle curves on a single plot for all four methods investigated in this project.   \n",
    "All data used are processed data from ```differential_analyse_Borealis.ipynb```. These data files each contains a monotonic segment of charge or discharge within a specific cycle. Specific columns see below."
   ],
   "id": "623032578bcfe67d"
  },
  {
   "cell_type": "code",
   "id": "initial_id",
   "metadata": {
    "collapsed": true,
    "ExecuteTime": {
     "end_time": "2025-07-25T20:38:40.439347Z",
     "start_time": "2025-07-25T20:38:36.648924Z"
    }
   },
   "source": [
    "# Import dependencies\n",
    "from pathlib import Path\n",
    "import re\n",
    "import sys\n",
    "import pandas as pd\n",
    "import matplotlib.pyplot as plt"
   ],
   "outputs": [],
   "execution_count": 2
  },
  {
   "metadata": {
    "ExecuteTime": {
     "end_time": "2025-07-25T20:38:47.166980Z",
     "start_time": "2025-07-25T20:38:47.153209Z"
    }
   },
   "cell_type": "code",
   "source": [
    "# Define standard column aliases\n",
    "T = 'Test_Time(s)'\n",
    "I = 'Current(A)'\n",
    "Qc = 'Charge_Capacity(Ah)'\n",
    "Qd = 'Discharge_Capacity(Ah)'\n",
    "V = 'Voltage_sm (V)'\n",
    "dqdv = 'dQ/dV (computed from preprocessed V) (Ah/V)'\n",
    "dvdq = 'dV/dQ (computed from preprocessed V) (V/Ah)'"
   ],
   "id": "201a90c0e3447c68",
   "outputs": [],
   "execution_count": 3
  },
  {
   "metadata": {
    "ExecuteTime": {
     "end_time": "2025-07-25T20:49:15.344224Z",
     "start_time": "2025-07-25T20:49:08.907042Z"
    }
   },
   "cell_type": "code",
   "source": "df = pd.read_excel(r\"D:\\FUSE 2025 SUM\\battery-analysis-project\\Data\\raw_data\\03-CONSTANT CURRENT protocol_Cycles 0 to 1000\\Cycle 0670\\CC_nineteen_Channel_5_Wb_1.xlsx\")",
   "id": "c043cbb1532f6b2d",
   "outputs": [
    {
     "ename": "KeyboardInterrupt",
     "evalue": "",
     "output_type": "error",
     "traceback": [
      "\u001B[1;31m---------------------------------------------------------------------------\u001B[0m",
      "\u001B[1;31mKeyboardInterrupt\u001B[0m                         Traceback (most recent call last)",
      "Cell \u001B[1;32mIn[36], line 1\u001B[0m\n\u001B[1;32m----> 1\u001B[0m df \u001B[38;5;241m=\u001B[39m \u001B[43mpd\u001B[49m\u001B[38;5;241;43m.\u001B[39;49m\u001B[43mread_excel\u001B[49m\u001B[43m(\u001B[49m\u001B[38;5;124;43mr\u001B[39;49m\u001B[38;5;124;43m\"\u001B[39;49m\u001B[38;5;124;43mD:\u001B[39;49m\u001B[38;5;124;43m\\\u001B[39;49m\u001B[38;5;124;43mFUSE 2025 SUM\u001B[39;49m\u001B[38;5;124;43m\\\u001B[39;49m\u001B[38;5;124;43mbattery-analysis-project\u001B[39;49m\u001B[38;5;124;43m\\\u001B[39;49m\u001B[38;5;124;43mData\u001B[39;49m\u001B[38;5;124;43m\\\u001B[39;49m\u001B[38;5;124;43mraw_data\u001B[39;49m\u001B[38;5;124;43m\\\u001B[39;49m\u001B[38;5;124;43m03-CONSTANT CURRENT protocol_Cycles 0 to 1000\u001B[39;49m\u001B[38;5;124;43m\\\u001B[39;49m\u001B[38;5;124;43mCycle 0670\u001B[39;49m\u001B[38;5;124;43m\\\u001B[39;49m\u001B[38;5;124;43mCC_nineteen_Channel_5_Wb_1.xlsx\u001B[39;49m\u001B[38;5;124;43m\"\u001B[39;49m\u001B[43m)\u001B[49m\n",
      "File \u001B[1;32mD:\\Anaconda\\envs\\FUSE_env\\lib\\site-packages\\pandas\\io\\excel\\_base.py:495\u001B[0m, in \u001B[0;36mread_excel\u001B[1;34m(io, sheet_name, header, names, index_col, usecols, dtype, engine, converters, true_values, false_values, skiprows, nrows, na_values, keep_default_na, na_filter, verbose, parse_dates, date_parser, date_format, thousands, decimal, comment, skipfooter, storage_options, dtype_backend, engine_kwargs)\u001B[0m\n\u001B[0;32m    493\u001B[0m \u001B[38;5;28;01mif\u001B[39;00m \u001B[38;5;129;01mnot\u001B[39;00m \u001B[38;5;28misinstance\u001B[39m(io, ExcelFile):\n\u001B[0;32m    494\u001B[0m     should_close \u001B[38;5;241m=\u001B[39m \u001B[38;5;28;01mTrue\u001B[39;00m\n\u001B[1;32m--> 495\u001B[0m     io \u001B[38;5;241m=\u001B[39m \u001B[43mExcelFile\u001B[49m\u001B[43m(\u001B[49m\n\u001B[0;32m    496\u001B[0m \u001B[43m        \u001B[49m\u001B[43mio\u001B[49m\u001B[43m,\u001B[49m\n\u001B[0;32m    497\u001B[0m \u001B[43m        \u001B[49m\u001B[43mstorage_options\u001B[49m\u001B[38;5;241;43m=\u001B[39;49m\u001B[43mstorage_options\u001B[49m\u001B[43m,\u001B[49m\n\u001B[0;32m    498\u001B[0m \u001B[43m        \u001B[49m\u001B[43mengine\u001B[49m\u001B[38;5;241;43m=\u001B[39;49m\u001B[43mengine\u001B[49m\u001B[43m,\u001B[49m\n\u001B[0;32m    499\u001B[0m \u001B[43m        \u001B[49m\u001B[43mengine_kwargs\u001B[49m\u001B[38;5;241;43m=\u001B[39;49m\u001B[43mengine_kwargs\u001B[49m\u001B[43m,\u001B[49m\n\u001B[0;32m    500\u001B[0m \u001B[43m    \u001B[49m\u001B[43m)\u001B[49m\n\u001B[0;32m    501\u001B[0m \u001B[38;5;28;01melif\u001B[39;00m engine \u001B[38;5;129;01mand\u001B[39;00m engine \u001B[38;5;241m!=\u001B[39m io\u001B[38;5;241m.\u001B[39mengine:\n\u001B[0;32m    502\u001B[0m     \u001B[38;5;28;01mraise\u001B[39;00m \u001B[38;5;167;01mValueError\u001B[39;00m(\n\u001B[0;32m    503\u001B[0m         \u001B[38;5;124m\"\u001B[39m\u001B[38;5;124mEngine should not be specified when passing \u001B[39m\u001B[38;5;124m\"\u001B[39m\n\u001B[0;32m    504\u001B[0m         \u001B[38;5;124m\"\u001B[39m\u001B[38;5;124man ExcelFile - ExcelFile already has the engine set\u001B[39m\u001B[38;5;124m\"\u001B[39m\n\u001B[0;32m    505\u001B[0m     )\n",
      "File \u001B[1;32mD:\\Anaconda\\envs\\FUSE_env\\lib\\site-packages\\pandas\\io\\excel\\_base.py:1567\u001B[0m, in \u001B[0;36mExcelFile.__init__\u001B[1;34m(self, path_or_buffer, engine, storage_options, engine_kwargs)\u001B[0m\n\u001B[0;32m   1564\u001B[0m \u001B[38;5;28mself\u001B[39m\u001B[38;5;241m.\u001B[39mengine \u001B[38;5;241m=\u001B[39m engine\n\u001B[0;32m   1565\u001B[0m \u001B[38;5;28mself\u001B[39m\u001B[38;5;241m.\u001B[39mstorage_options \u001B[38;5;241m=\u001B[39m storage_options\n\u001B[1;32m-> 1567\u001B[0m \u001B[38;5;28mself\u001B[39m\u001B[38;5;241m.\u001B[39m_reader \u001B[38;5;241m=\u001B[39m \u001B[38;5;28;43mself\u001B[39;49m\u001B[38;5;241;43m.\u001B[39;49m\u001B[43m_engines\u001B[49m\u001B[43m[\u001B[49m\u001B[43mengine\u001B[49m\u001B[43m]\u001B[49m\u001B[43m(\u001B[49m\n\u001B[0;32m   1568\u001B[0m \u001B[43m    \u001B[49m\u001B[38;5;28;43mself\u001B[39;49m\u001B[38;5;241;43m.\u001B[39;49m\u001B[43m_io\u001B[49m\u001B[43m,\u001B[49m\n\u001B[0;32m   1569\u001B[0m \u001B[43m    \u001B[49m\u001B[43mstorage_options\u001B[49m\u001B[38;5;241;43m=\u001B[39;49m\u001B[43mstorage_options\u001B[49m\u001B[43m,\u001B[49m\n\u001B[0;32m   1570\u001B[0m \u001B[43m    \u001B[49m\u001B[43mengine_kwargs\u001B[49m\u001B[38;5;241;43m=\u001B[39;49m\u001B[43mengine_kwargs\u001B[49m\u001B[43m,\u001B[49m\n\u001B[0;32m   1571\u001B[0m \u001B[43m\u001B[49m\u001B[43m)\u001B[49m\n",
      "File \u001B[1;32mD:\\Anaconda\\envs\\FUSE_env\\lib\\site-packages\\pandas\\io\\excel\\_openpyxl.py:553\u001B[0m, in \u001B[0;36mOpenpyxlReader.__init__\u001B[1;34m(self, filepath_or_buffer, storage_options, engine_kwargs)\u001B[0m\n\u001B[0;32m    541\u001B[0m \u001B[38;5;250m\u001B[39m\u001B[38;5;124;03m\"\"\"\u001B[39;00m\n\u001B[0;32m    542\u001B[0m \u001B[38;5;124;03mReader using openpyxl engine.\u001B[39;00m\n\u001B[0;32m    543\u001B[0m \n\u001B[1;32m   (...)\u001B[0m\n\u001B[0;32m    550\u001B[0m \u001B[38;5;124;03m    Arbitrary keyword arguments passed to excel engine.\u001B[39;00m\n\u001B[0;32m    551\u001B[0m \u001B[38;5;124;03m\"\"\"\u001B[39;00m\n\u001B[0;32m    552\u001B[0m import_optional_dependency(\u001B[38;5;124m\"\u001B[39m\u001B[38;5;124mopenpyxl\u001B[39m\u001B[38;5;124m\"\u001B[39m)\n\u001B[1;32m--> 553\u001B[0m \u001B[38;5;28;43msuper\u001B[39;49m\u001B[43m(\u001B[49m\u001B[43m)\u001B[49m\u001B[38;5;241;43m.\u001B[39;49m\u001B[38;5;21;43m__init__\u001B[39;49m\u001B[43m(\u001B[49m\n\u001B[0;32m    554\u001B[0m \u001B[43m    \u001B[49m\u001B[43mfilepath_or_buffer\u001B[49m\u001B[43m,\u001B[49m\n\u001B[0;32m    555\u001B[0m \u001B[43m    \u001B[49m\u001B[43mstorage_options\u001B[49m\u001B[38;5;241;43m=\u001B[39;49m\u001B[43mstorage_options\u001B[49m\u001B[43m,\u001B[49m\n\u001B[0;32m    556\u001B[0m \u001B[43m    \u001B[49m\u001B[43mengine_kwargs\u001B[49m\u001B[38;5;241;43m=\u001B[39;49m\u001B[43mengine_kwargs\u001B[49m\u001B[43m,\u001B[49m\n\u001B[0;32m    557\u001B[0m \u001B[43m\u001B[49m\u001B[43m)\u001B[49m\n",
      "File \u001B[1;32mD:\\Anaconda\\envs\\FUSE_env\\lib\\site-packages\\pandas\\io\\excel\\_base.py:573\u001B[0m, in \u001B[0;36mBaseExcelReader.__init__\u001B[1;34m(self, filepath_or_buffer, storage_options, engine_kwargs)\u001B[0m\n\u001B[0;32m    571\u001B[0m \u001B[38;5;28mself\u001B[39m\u001B[38;5;241m.\u001B[39mhandles\u001B[38;5;241m.\u001B[39mhandle\u001B[38;5;241m.\u001B[39mseek(\u001B[38;5;241m0\u001B[39m)\n\u001B[0;32m    572\u001B[0m \u001B[38;5;28;01mtry\u001B[39;00m:\n\u001B[1;32m--> 573\u001B[0m     \u001B[38;5;28mself\u001B[39m\u001B[38;5;241m.\u001B[39mbook \u001B[38;5;241m=\u001B[39m \u001B[38;5;28;43mself\u001B[39;49m\u001B[38;5;241;43m.\u001B[39;49m\u001B[43mload_workbook\u001B[49m\u001B[43m(\u001B[49m\u001B[38;5;28;43mself\u001B[39;49m\u001B[38;5;241;43m.\u001B[39;49m\u001B[43mhandles\u001B[49m\u001B[38;5;241;43m.\u001B[39;49m\u001B[43mhandle\u001B[49m\u001B[43m,\u001B[49m\u001B[43m \u001B[49m\u001B[43mengine_kwargs\u001B[49m\u001B[43m)\u001B[49m\n\u001B[0;32m    574\u001B[0m \u001B[38;5;28;01mexcept\u001B[39;00m \u001B[38;5;167;01mException\u001B[39;00m:\n\u001B[0;32m    575\u001B[0m     \u001B[38;5;28mself\u001B[39m\u001B[38;5;241m.\u001B[39mclose()\n",
      "File \u001B[1;32mD:\\Anaconda\\envs\\FUSE_env\\lib\\site-packages\\pandas\\io\\excel\\_openpyxl.py:572\u001B[0m, in \u001B[0;36mOpenpyxlReader.load_workbook\u001B[1;34m(self, filepath_or_buffer, engine_kwargs)\u001B[0m\n\u001B[0;32m    568\u001B[0m \u001B[38;5;28;01mfrom\u001B[39;00m\u001B[38;5;250m \u001B[39m\u001B[38;5;21;01mopenpyxl\u001B[39;00m\u001B[38;5;250m \u001B[39m\u001B[38;5;28;01mimport\u001B[39;00m load_workbook\n\u001B[0;32m    570\u001B[0m default_kwargs \u001B[38;5;241m=\u001B[39m {\u001B[38;5;124m\"\u001B[39m\u001B[38;5;124mread_only\u001B[39m\u001B[38;5;124m\"\u001B[39m: \u001B[38;5;28;01mTrue\u001B[39;00m, \u001B[38;5;124m\"\u001B[39m\u001B[38;5;124mdata_only\u001B[39m\u001B[38;5;124m\"\u001B[39m: \u001B[38;5;28;01mTrue\u001B[39;00m, \u001B[38;5;124m\"\u001B[39m\u001B[38;5;124mkeep_links\u001B[39m\u001B[38;5;124m\"\u001B[39m: \u001B[38;5;28;01mFalse\u001B[39;00m}\n\u001B[1;32m--> 572\u001B[0m \u001B[38;5;28;01mreturn\u001B[39;00m load_workbook(\n\u001B[0;32m    573\u001B[0m     filepath_or_buffer,\n\u001B[0;32m    574\u001B[0m     \u001B[38;5;241m*\u001B[39m\u001B[38;5;241m*\u001B[39m(default_kwargs \u001B[38;5;241m|\u001B[39m engine_kwargs),\n\u001B[0;32m    575\u001B[0m )\n",
      "File \u001B[1;32mD:\\Anaconda\\envs\\FUSE_env\\lib\\site-packages\\openpyxl\\reader\\excel.py:348\u001B[0m, in \u001B[0;36mload_workbook\u001B[1;34m(filename, read_only, keep_vba, data_only, keep_links, rich_text)\u001B[0m\n\u001B[0;32m    318\u001B[0m \u001B[38;5;250m\u001B[39m\u001B[38;5;124;03m\"\"\"Open the given filename and return the workbook\u001B[39;00m\n\u001B[0;32m    319\u001B[0m \n\u001B[0;32m    320\u001B[0m \u001B[38;5;124;03m:param filename: the path to open or a file-like object\u001B[39;00m\n\u001B[1;32m   (...)\u001B[0m\n\u001B[0;32m    344\u001B[0m \n\u001B[0;32m    345\u001B[0m \u001B[38;5;124;03m\"\"\"\u001B[39;00m\n\u001B[0;32m    346\u001B[0m reader \u001B[38;5;241m=\u001B[39m ExcelReader(filename, read_only, keep_vba,\n\u001B[0;32m    347\u001B[0m                      data_only, keep_links, rich_text)\n\u001B[1;32m--> 348\u001B[0m \u001B[43mreader\u001B[49m\u001B[38;5;241;43m.\u001B[39;49m\u001B[43mread\u001B[49m\u001B[43m(\u001B[49m\u001B[43m)\u001B[49m\n\u001B[0;32m    349\u001B[0m \u001B[38;5;28;01mreturn\u001B[39;00m reader\u001B[38;5;241m.\u001B[39mwb\n",
      "File \u001B[1;32mD:\\Anaconda\\envs\\FUSE_env\\lib\\site-packages\\openpyxl\\reader\\excel.py:291\u001B[0m, in \u001B[0;36mExcelReader.read\u001B[1;34m(self)\u001B[0m\n\u001B[0;32m    289\u001B[0m \u001B[38;5;28mself\u001B[39m\u001B[38;5;241m.\u001B[39mread_manifest()\n\u001B[0;32m    290\u001B[0m action \u001B[38;5;241m=\u001B[39m \u001B[38;5;124m\"\u001B[39m\u001B[38;5;124mread strings\u001B[39m\u001B[38;5;124m\"\u001B[39m\n\u001B[1;32m--> 291\u001B[0m \u001B[38;5;28;43mself\u001B[39;49m\u001B[38;5;241;43m.\u001B[39;49m\u001B[43mread_strings\u001B[49m\u001B[43m(\u001B[49m\u001B[43m)\u001B[49m\n\u001B[0;32m    292\u001B[0m action \u001B[38;5;241m=\u001B[39m \u001B[38;5;124m\"\u001B[39m\u001B[38;5;124mread workbook\u001B[39m\u001B[38;5;124m\"\u001B[39m\n\u001B[0;32m    293\u001B[0m \u001B[38;5;28mself\u001B[39m\u001B[38;5;241m.\u001B[39mread_workbook()\n",
      "File \u001B[1;32mD:\\Anaconda\\envs\\FUSE_env\\lib\\site-packages\\openpyxl\\reader\\excel.py:147\u001B[0m, in \u001B[0;36mExcelReader.read_strings\u001B[1;34m(self)\u001B[0m\n\u001B[0;32m    145\u001B[0m strings_path \u001B[38;5;241m=\u001B[39m ct\u001B[38;5;241m.\u001B[39mPartName[\u001B[38;5;241m1\u001B[39m:]\n\u001B[0;32m    146\u001B[0m \u001B[38;5;28;01mwith\u001B[39;00m \u001B[38;5;28mself\u001B[39m\u001B[38;5;241m.\u001B[39marchive\u001B[38;5;241m.\u001B[39mopen(strings_path,) \u001B[38;5;28;01mas\u001B[39;00m src:\n\u001B[1;32m--> 147\u001B[0m     \u001B[38;5;28mself\u001B[39m\u001B[38;5;241m.\u001B[39mshared_strings \u001B[38;5;241m=\u001B[39m \u001B[43mreader\u001B[49m\u001B[43m(\u001B[49m\u001B[43msrc\u001B[49m\u001B[43m)\u001B[49m\n",
      "File \u001B[1;32mD:\\Anaconda\\envs\\FUSE_env\\lib\\site-packages\\openpyxl\\reader\\strings.py:16\u001B[0m, in \u001B[0;36mread_string_table\u001B[1;34m(xml_source)\u001B[0m\n\u001B[0;32m     13\u001B[0m strings \u001B[38;5;241m=\u001B[39m []\n\u001B[0;32m     14\u001B[0m STRING_TAG \u001B[38;5;241m=\u001B[39m \u001B[38;5;124m'\u001B[39m\u001B[38;5;124m{\u001B[39m\u001B[38;5;132;01m%s\u001B[39;00m\u001B[38;5;124m}si\u001B[39m\u001B[38;5;124m'\u001B[39m \u001B[38;5;241m%\u001B[39m SHEET_MAIN_NS\n\u001B[1;32m---> 16\u001B[0m \u001B[38;5;28;01mfor\u001B[39;00m _, node \u001B[38;5;129;01min\u001B[39;00m iterparse(xml_source):\n\u001B[0;32m     17\u001B[0m     \u001B[38;5;28;01mif\u001B[39;00m node\u001B[38;5;241m.\u001B[39mtag \u001B[38;5;241m==\u001B[39m STRING_TAG:\n\u001B[0;32m     18\u001B[0m         text \u001B[38;5;241m=\u001B[39m Text\u001B[38;5;241m.\u001B[39mfrom_tree(node)\u001B[38;5;241m.\u001B[39mcontent\n",
      "File \u001B[1;32mD:\\Anaconda\\envs\\FUSE_env\\lib\\xml\\etree\\ElementTree.py:1255\u001B[0m, in \u001B[0;36miterparse.<locals>.iterator\u001B[1;34m(source)\u001B[0m\n\u001B[0;32m   1253\u001B[0m \u001B[38;5;28;01myield from\u001B[39;00m pullparser\u001B[38;5;241m.\u001B[39mread_events()\n\u001B[0;32m   1254\u001B[0m \u001B[38;5;66;03m# load event buffer\u001B[39;00m\n\u001B[1;32m-> 1255\u001B[0m data \u001B[38;5;241m=\u001B[39m \u001B[43msource\u001B[49m\u001B[38;5;241;43m.\u001B[39;49m\u001B[43mread\u001B[49m\u001B[43m(\u001B[49m\u001B[38;5;241;43m16\u001B[39;49m\u001B[43m \u001B[49m\u001B[38;5;241;43m*\u001B[39;49m\u001B[43m \u001B[49m\u001B[38;5;241;43m1024\u001B[39;49m\u001B[43m)\u001B[49m\n\u001B[0;32m   1256\u001B[0m \u001B[38;5;28;01mif\u001B[39;00m \u001B[38;5;129;01mnot\u001B[39;00m data:\n\u001B[0;32m   1257\u001B[0m     \u001B[38;5;28;01mbreak\u001B[39;00m\n",
      "File \u001B[1;32mD:\\Anaconda\\envs\\FUSE_env\\lib\\zipfile.py:930\u001B[0m, in \u001B[0;36mZipExtFile.read\u001B[1;34m(self, n)\u001B[0m\n\u001B[0;32m    928\u001B[0m \u001B[38;5;28mself\u001B[39m\u001B[38;5;241m.\u001B[39m_offset \u001B[38;5;241m=\u001B[39m \u001B[38;5;241m0\u001B[39m\n\u001B[0;32m    929\u001B[0m \u001B[38;5;28;01mwhile\u001B[39;00m n \u001B[38;5;241m>\u001B[39m \u001B[38;5;241m0\u001B[39m \u001B[38;5;129;01mand\u001B[39;00m \u001B[38;5;129;01mnot\u001B[39;00m \u001B[38;5;28mself\u001B[39m\u001B[38;5;241m.\u001B[39m_eof:\n\u001B[1;32m--> 930\u001B[0m     data \u001B[38;5;241m=\u001B[39m \u001B[38;5;28;43mself\u001B[39;49m\u001B[38;5;241;43m.\u001B[39;49m\u001B[43m_read1\u001B[49m\u001B[43m(\u001B[49m\u001B[43mn\u001B[49m\u001B[43m)\u001B[49m\n\u001B[0;32m    931\u001B[0m     \u001B[38;5;28;01mif\u001B[39;00m n \u001B[38;5;241m<\u001B[39m \u001B[38;5;28mlen\u001B[39m(data):\n\u001B[0;32m    932\u001B[0m         \u001B[38;5;28mself\u001B[39m\u001B[38;5;241m.\u001B[39m_readbuffer \u001B[38;5;241m=\u001B[39m data\n",
      "File \u001B[1;32mD:\\Anaconda\\envs\\FUSE_env\\lib\\zipfile.py:1006\u001B[0m, in \u001B[0;36mZipExtFile._read1\u001B[1;34m(self, n)\u001B[0m\n\u001B[0;32m   1004\u001B[0m \u001B[38;5;28;01melif\u001B[39;00m \u001B[38;5;28mself\u001B[39m\u001B[38;5;241m.\u001B[39m_compress_type \u001B[38;5;241m==\u001B[39m ZIP_DEFLATED:\n\u001B[0;32m   1005\u001B[0m     n \u001B[38;5;241m=\u001B[39m \u001B[38;5;28mmax\u001B[39m(n, \u001B[38;5;28mself\u001B[39m\u001B[38;5;241m.\u001B[39mMIN_READ_SIZE)\n\u001B[1;32m-> 1006\u001B[0m     data \u001B[38;5;241m=\u001B[39m \u001B[38;5;28;43mself\u001B[39;49m\u001B[38;5;241;43m.\u001B[39;49m\u001B[43m_decompressor\u001B[49m\u001B[38;5;241;43m.\u001B[39;49m\u001B[43mdecompress\u001B[49m\u001B[43m(\u001B[49m\u001B[43mdata\u001B[49m\u001B[43m,\u001B[49m\u001B[43m \u001B[49m\u001B[43mn\u001B[49m\u001B[43m)\u001B[49m\n\u001B[0;32m   1007\u001B[0m     \u001B[38;5;28mself\u001B[39m\u001B[38;5;241m.\u001B[39m_eof \u001B[38;5;241m=\u001B[39m (\u001B[38;5;28mself\u001B[39m\u001B[38;5;241m.\u001B[39m_decompressor\u001B[38;5;241m.\u001B[39meof \u001B[38;5;129;01mor\u001B[39;00m\n\u001B[0;32m   1008\u001B[0m                  \u001B[38;5;28mself\u001B[39m\u001B[38;5;241m.\u001B[39m_compress_left \u001B[38;5;241m<\u001B[39m\u001B[38;5;241m=\u001B[39m \u001B[38;5;241m0\u001B[39m \u001B[38;5;129;01mand\u001B[39;00m\n\u001B[0;32m   1009\u001B[0m                  \u001B[38;5;129;01mnot\u001B[39;00m \u001B[38;5;28mself\u001B[39m\u001B[38;5;241m.\u001B[39m_decompressor\u001B[38;5;241m.\u001B[39munconsumed_tail)\n\u001B[0;32m   1010\u001B[0m     \u001B[38;5;28;01mif\u001B[39;00m \u001B[38;5;28mself\u001B[39m\u001B[38;5;241m.\u001B[39m_eof:\n",
      "\u001B[1;31mKeyboardInterrupt\u001B[0m: "
     ]
    }
   ],
   "execution_count": 36
  },
  {
   "metadata": {
    "ExecuteTime": {
     "end_time": "2025-07-25T16:48:21.296321Z",
     "start_time": "2025-07-25T16:48:21.249771Z"
    }
   },
   "cell_type": "code",
   "source": [
    "df['Cycle_Index'].unique()\n",
    "# checking if I can map out the global index for each cycle, seems that I cannot here as the next folder after ```Cycle 0670``` is ```Cycle 0708``` while 0670 only contains cycle_index 1-9, so it is not complete."
   ],
   "id": "d691e010cb8b5f8c",
   "outputs": [
    {
     "data": {
      "text/plain": [
       "array([1, 2, 3, 4, 5, 6, 7, 8, 9], dtype=int64)"
      ]
     },
     "execution_count": 8,
     "metadata": {},
     "output_type": "execute_result"
    }
   ],
   "execution_count": 8
  },
  {
   "metadata": {
    "ExecuteTime": {
     "end_time": "2025-07-25T20:38:55.807586Z",
     "start_time": "2025-07-25T20:38:55.792005Z"
    }
   },
   "cell_type": "code",
   "source": [
    "# Set up the function to extract folder no. and the local cycle index within it, for use in legend afterwards\n",
    "def extract_index(file_path):\n",
    "    match = re.search(r\"folder_(\\d+)_cycle_(\\d+)\", file_path.name)\n",
    "    if match:\n",
    "        folder_no = int(match.group(1))\n",
    "        cycle_no = int(match.group(2))\n",
    "        return f\"Cycle {folder_no} – c{cycle_no}\""
   ],
   "id": "9943de58f41c54ab",
   "outputs": [],
   "execution_count": 5
  },
  {
   "metadata": {
    "ExecuteTime": {
     "end_time": "2025-07-25T20:41:05.770291Z",
     "start_time": "2025-07-25T20:41:05.703301Z"
    }
   },
   "cell_type": "code",
   "source": [
    "# Set up output path\n",
    "current_dir = Path.cwd()\n",
    "output_plot_path = current_dir.parent / 'Plots' / 'multicycle'\n",
    "output_plot_path.mkdir(parents=True, exist_ok=True)\n",
    "\n",
    "# Automate the way to load files\n",
    "base_path = current_dir.parent / 'Data' / 'monotonic_segments'\n",
    "\n",
    "def read(process):\n",
    "    all_files =  list(base_path.glob(f\"preprocessed_*_{process}.csv\"))\n",
    "    \n",
    "    results = []\n",
    "    \n",
    "    for file in all_files:\n",
    "        df = pd.read_csv(file)\n",
    "        label = extract_index(file)\n",
    "        results.append((df, label))    \n",
    "    \n",
    "    return results"
   ],
   "id": "2b96d418a07ef9fe",
   "outputs": [],
   "execution_count": 18
  },
  {
   "metadata": {
    "ExecuteTime": {
     "end_time": "2025-07-25T20:41:06.598238Z",
     "start_time": "2025-07-25T20:41:06.570955Z"
    }
   },
   "cell_type": "code",
   "source": [
    "def multi_dvdq_plot(data, **kwargs):\n",
    "    for df, label in data:\n",
    "        plt.plot(df[V], df[dvdq], label=label, **kwargs)\n",
    "    plt.xlabel(\"Smoothed voltage (V)\")\n",
    "    plt.ylabel(\"dV/dQ (V/Ah)\")\n",
    "    plt.legend()\n",
    "    plt.grid(True)\n",
    "    plt.tight_layout()\n",
    "    plt.show()"
   ],
   "id": "eed755e44d17193f",
   "outputs": [],
   "execution_count": 19
  },
  {
   "metadata": {
    "ExecuteTime": {
     "end_time": "2025-07-25T20:41:06.943902Z",
     "start_time": "2025-07-25T20:41:06.926901Z"
    }
   },
   "cell_type": "code",
   "source": [
    "def multi_dqdv_plot(data, **kwargs):\n",
    "    for df, label in data:\n",
    "        plt.plot(df[V], df[dqdv], label=label, **kwargs)\n",
    "    plt.xlabel(\"Smoothed voltage (V)\")\n",
    "    plt.ylabel(\"dQ/dV (Ah/V)\")\n",
    "    plt.legend()\n",
    "    plt.grid(True)\n",
    "    plt.tight_layout()\n",
    "    plt.show()"
   ],
   "id": "d0e9c8da4d42d13e",
   "outputs": [],
   "execution_count": 20
  },
  {
   "metadata": {
    "ExecuteTime": {
     "end_time": "2025-07-25T20:41:07.323616Z",
     "start_time": "2025-07-25T20:41:07.300033Z"
    }
   },
   "cell_type": "code",
   "source": [
    "charge_data = read('charge')\n",
    "discharge_data = read('discharge')"
   ],
   "id": "b34e10a906d9ad67",
   "outputs": [],
   "execution_count": 21
  },
  {
   "metadata": {
    "ExecuteTime": {
     "end_time": "2025-07-25T20:41:08.446696Z",
     "start_time": "2025-07-25T20:41:07.850063Z"
    }
   },
   "cell_type": "code",
   "source": "multi_dvdq_plot(charge_data, linestyle = 'none', marker = 'o', markersize = 2)",
   "id": "3a5562a13087e43d",
   "outputs": [
    {
     "name": "stderr",
     "output_type": "stream",
     "text": [
      "C:\\Users\\Jimei\\AppData\\Local\\Temp\\ipykernel_27024\\220407900.py:6: UserWarning: No artists with labels found to put in legend.  Note that artists whose label start with an underscore are ignored when legend() is called with no argument.\n",
      "  plt.legend()\n"
     ]
    },
    {
     "data": {
      "text/plain": [
       "<Figure size 640x480 with 1 Axes>"
      ],
      "image/png": "[encoded data removed]"
     },
     "metadata": {},
     "output_type": "display_data"
    }
   ],
   "execution_count": 22
  },
  {
   "metadata": {
    "ExecuteTime": {
     "end_time": "2025-07-25T20:41:09.713427Z",
     "start_time": "2025-07-25T20:41:09.358748Z"
    }
   },
   "cell_type": "code",
   "source": "multi_dqdv_plot(discharge_data, linestyle = 'none', marker = 'o', markersize = 2)",
   "id": "67530e63ba27a2d3",
   "outputs": [
    {
     "name": "stderr",
     "output_type": "stream",
     "text": [
      "C:\\Users\\Jimei\\AppData\\Local\\Temp\\ipykernel_27024\\1166630234.py:6: UserWarning: No artists with labels found to put in legend.  Note that artists whose label start with an underscore are ignored when legend() is called with no argument.\n",
      "  plt.legend()\n"
     ]
    },
    {
     "data": {
      "text/plain": [
       "<Figure size 640x480 with 1 Axes>"
      ],
      "image/png": "[encoded data removed]"
     },
     "metadata": {},
     "output_type": "display_data"
    }
   ],
   "execution_count": 23
  },
  {
   "metadata": {
    "ExecuteTime": {
     "end_time": "2025-07-25T20:42:46.045859Z",
     "start_time": "2025-07-25T20:42:45.996929Z"
    }
   },
   "cell_type": "code",
   "source": [
    "# use written functions to generate monotonic segments for plots\n",
    "current_dir = Path.cwd()\n",
    "utils_path = current_dir.parent / 'Src'\n",
    "sys.path.append(str(utils_path))\n",
    "import utils\n",
    "\n",
    "# Set up output directories\n",
    "output_plot_path = current_dir.parent / 'Plots' / 'differential_curves'\n",
    "output_data_path = current_dir.parent / 'Data' / 'monotonic_segments'\n",
    "processed_data_path = current_dir.parent / 'Data' / 'processed_data'\n",
    "\n",
    "# Create folders if they don't exist\n",
    "output_plot_path.mkdir(parents=True, exist_ok=True)\n",
    "output_data_path.mkdir(parents=True, exist_ok=True)\n",
    "processed_data_path.mkdir(parents=True, exist_ok=True)"
   ],
   "id": "676632289073e8dd",
   "outputs": [],
   "execution_count": 30
  },
  {
   "metadata": {
    "ExecuteTime": {
     "end_time": "2025-07-25T20:43:07.077799Z",
     "start_time": "2025-07-25T20:43:07.056937Z"
    }
   },
   "cell_type": "code",
   "source": [
    "# Define base path to raw dataset\n",
    "raw_path = current_dir.parent / 'Data' / 'raw_data' / '03-CONSTANT CURRENT protocol_Cycles 0 to 1000'"
   ],
   "id": "bff2278ab94ce696",
   "outputs": [],
   "execution_count": 32
  },
  {
   "metadata": {
    "ExecuteTime": {
     "end_time": "2025-07-25T20:43:07.728098Z",
     "start_time": "2025-07-25T20:43:07.666487Z"
    }
   },
   "cell_type": "code",
   "source": "cycle_file_map = utils.build_cycle_file_map(raw_path)",
   "id": "ac4247a9393723d9",
   "outputs": [],
   "execution_count": 33
  },
  {
   "metadata": {
    "ExecuteTime": {
     "end_time": "2025-07-25T20:43:08.582516Z",
     "start_time": "2025-07-25T20:43:08.561437Z"
    }
   },
   "cell_type": "code",
   "source": [
    "# Global variable to store the last loaded folder's data\n",
    "_last_folder = {\n",
    "    'folder_no': None,\n",
    "    'df': None\n",
    "}"
   ],
   "id": "acea15f4d04b540e",
   "outputs": [],
   "execution_count": 34
  },
  {
   "metadata": {
    "jupyter": {
     "is_executing": true
    },
    "ExecuteTime": {
     "start_time": "2025-07-25T20:49:19.994791Z"
    }
   },
   "cell_type": "code",
   "source": [
    "utils.select_valid_cycle(\n",
    "    folder_no=0,\n",
    "    cycle_file_map = cycle_file_map, \n",
    "    min_seg_length=50,\n",
    "    min_v_variation=10\n",
    ")"
   ],
   "id": "2e43b9ec328cbe87",
   "outputs": [],
   "execution_count": null
  },
  {
   "metadata": {
    "ExecuteTime": {
     "end_time": "2025-07-25T20:20:19.570168Z",
     "start_time": "2025-07-25T20:20:19.508299Z"
    }
   },
   "cell_type": "code",
   "source": [
    "plot_selected_vq(\n",
    "    cycle_no=1,\n",
    "    process='discharge',\n",
    "    linestyle='none',\n",
    "    marker='o',\n",
    "    markersize=2\n",
    ")"
   ],
   "id": "c2fb7d47f4de4ce4",
   "outputs": [
    {
     "ename": "NameError",
     "evalue": "name 'plot_selected_vq' is not defined",
     "output_type": "error",
     "traceback": [
      "\u001B[1;31m---------------------------------------------------------------------------\u001B[0m",
      "\u001B[1;31mNameError\u001B[0m                                 Traceback (most recent call last)",
      "Cell \u001B[1;32mIn[74], line 1\u001B[0m\n\u001B[1;32m----> 1\u001B[0m \u001B[43mplot_selected_vq\u001B[49m(\n\u001B[0;32m      2\u001B[0m     cycle_no\u001B[38;5;241m=\u001B[39m\u001B[38;5;241m1\u001B[39m,\n\u001B[0;32m      3\u001B[0m     process\u001B[38;5;241m=\u001B[39m\u001B[38;5;124m'\u001B[39m\u001B[38;5;124mdischarge\u001B[39m\u001B[38;5;124m'\u001B[39m,\n\u001B[0;32m      4\u001B[0m     linestyle\u001B[38;5;241m=\u001B[39m\u001B[38;5;124m'\u001B[39m\u001B[38;5;124mnone\u001B[39m\u001B[38;5;124m'\u001B[39m,\n\u001B[0;32m      5\u001B[0m     marker\u001B[38;5;241m=\u001B[39m\u001B[38;5;124m'\u001B[39m\u001B[38;5;124mo\u001B[39m\u001B[38;5;124m'\u001B[39m,\n\u001B[0;32m      6\u001B[0m     markersize\u001B[38;5;241m=\u001B[39m\u001B[38;5;241m2\u001B[39m\n\u001B[0;32m      7\u001B[0m )\n",
      "\u001B[1;31mNameError\u001B[0m: name 'plot_selected_vq' is not defined"
     ]
    }
   ],
   "execution_count": 74
  },
  {
   "metadata": {},
   "cell_type": "code",
   "outputs": [],
   "execution_count": null,
   "source": [
    "# Full pipeline: save region and plot all differential curves\n",
    "plot_all_from_qrange(\n",
    "    cycle_no=1, # the specific cycle chosen to be evaluated here within the folder\n",
    "    \n",
    "    # Monotonic segment range, chosen manually\n",
    "    q_min=0.2,\n",
    "    q_max=2.5,\n",
    "    \n",
    "    # str, Segment type\n",
    "    process='discharge',\n",
    "    \n",
    "    # to filter out valid cycles in each folder\n",
    "    min_seg_length=50, # int, Minimum number of points in a valid segment\n",
    "    min_v_variation=10, # int, Minimum number of unique voltage values\n",
    "    \n",
    "    # Interpolation\n",
    "    no_points=100, # int, Points to interpolate for uniform spacing\n",
    "    \n",
    "    # Smoothing - Savitzky-Golay filter\n",
    "    window=11, # int, Window size (must be odd)\n",
    "    polyorder=3, # int, Polynomial order\n",
    "    \n",
    "    # Gradient\n",
    "    eps=1e-6, # Threshold to avoid division by near-zero\n",
    "    \n",
    "    # Saving and displaying\n",
    "    save=False, show=True, dpi=600,\n",
    "    \n",
    "    # **kwargs\n",
    "    linestyle='none',\n",
    "    marker='o',\n",
    "    markersize=2\n",
    ")"
   ],
   "id": "df51342735f7fb60"
  }
 ],
 "metadata": {
  "kernelspec": {
   "display_name": "Python 3",
   "language": "python",
   "name": "python3"
  },
  "language_info": {
   "codemirror_mode": {
    "name": "ipython",
    "version": 2
   },
   "file_extension": ".py",
   "mimetype": "text/x-python",
   "name": "python",
   "nbconvert_exporter": "python",
   "pygments_lexer": "ipython2",
   "version": "2.7.6"
  }
 },
 "nbformat": 4,
 "nbformat_minor": 5
}
